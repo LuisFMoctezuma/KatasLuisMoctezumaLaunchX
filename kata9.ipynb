{
 "cells": [
  {
   "cell_type": "markdown",
   "metadata": {},
   "source": [
    "# Ejercicio 1"
   ]
  },
  {
   "cell_type": "code",
   "execution_count": 3,
   "metadata": {},
   "outputs": [],
   "source": [
    "# Función para leer 3 tanques de combustible y muestre el promedio\n",
    "\n",
    "def report(gasTank, hydrosineTank, jetFuelTank):\n",
    "    totalAverage = (gasTank + hydrosineTank + jetFuelTank) / 3\n",
    "    return f\"\"\"Reporte de combustible:\n",
    "    Promedio total: {totalAverage}%\n",
    "    Tanque de gas: {gasTank}%\n",
    "    Tanque de hidrosina: {hydrosineTank}%\n",
    "    Tanque de turbocina: {jetFuelTank}% \n",
    "    \"\"\""
   ]
  },
  {
   "cell_type": "code",
   "execution_count": 4,
   "metadata": {},
   "outputs": [
    {
     "name": "stdout",
     "output_type": "stream",
     "text": [
      "Reporte de combustible:\n",
      "    Promedio total: 73.33333333333333%\n",
      "    Tanque de gas: 100%\n",
      "    Tanque de hidrosina: 50%\n",
      "    Tanque de turbocina: 70% \n",
      "    \n"
     ]
    }
   ],
   "source": [
    "# Llamamos a la función que genera el reporte print(funcion(tanque1, tanque2, tanque3))\n",
    "print(report(100, 50, 70))"
   ]
  },
  {
   "cell_type": "code",
   "execution_count": 5,
   "metadata": {},
   "outputs": [
    {
     "data": {
      "text/plain": [
       "73.33333333333333"
      ]
     },
     "execution_count": 5,
     "metadata": {},
     "output_type": "execute_result"
    }
   ],
   "source": [
    "# Función promedio \n",
    "# De esta forma tenemos una funcion que calcula el promedio aparte y con n número de tanques\n",
    "def average(values):\n",
    "    total = sum(values)\n",
    "    numberItems = len(values)\n",
    "    return total / numberItems\n",
    "\n",
    "average([100, 50, 70]) "
   ]
  },
  {
   "cell_type": "code",
   "execution_count": 6,
   "metadata": {},
   "outputs": [
    {
     "name": "stdout",
     "output_type": "stream",
     "text": [
      "Reporte de combustible:\n",
      "    Promedio total:  73.33333333333333%\n",
      "    Tanque de gas: 100%\n",
      "    Tanque de hidrosina: 50%\n",
      "    Tanque de turbocina: 70% \n",
      "    \n"
     ]
    }
   ],
   "source": [
    "# Actualiza la función\n",
    "def report(gasTank, hydrosineTank, jetFuelTank):\n",
    "    return f\"\"\"Reporte de combustible:\n",
    "    Promedio total:  {average([gasTank, hydrosineTank, jetFuelTank])}%\n",
    "    Tanque de gas: {gasTank}%\n",
    "    Tanque de hidrosina: {hydrosineTank}%\n",
    "    Tanque de turbocina: {jetFuelTank}% \n",
    "    \"\"\"\n",
    "\n",
    "# Call the updated function again with different values\n",
    "print(report(100, 50, 70))"
   ]
  },
  {
   "cell_type": "markdown",
   "metadata": {},
   "source": [
    "# Ejercicio 2"
   ]
  },
  {
   "cell_type": "code",
   "execution_count": 7,
   "metadata": {},
   "outputs": [
    {
     "name": "stdout",
     "output_type": "stream",
     "text": [
      "\n",
      "    Destino: Marte\n",
      "    Tiempo total del viaje: 75 minutos\n",
      "    Combustible total: 507000 litros\n",
      "    \n"
     ]
    }
   ],
   "source": [
    "# Función con un informe preciso de la misión. Considera hora de prelanzamiento, tiempo de vuelo, destino, tanque externo y tanque interno\n",
    "def report(preLaunchTime, flightTime, destiny, externalTank, internalTank):\n",
    "    return f\"\"\"\n",
    "    Destino: {destiny}\n",
    "    Tiempo total del viaje: {preLaunchTime + flightTime} minutos\n",
    "    Combustible total: {externalTank + internalTank} litros\n",
    "    \"\"\"\n",
    "\n",
    "print(report(30, 45, \"Marte\", 7000, 500000))"
   ]
  },
  {
   "cell_type": "code",
   "execution_count": 8,
   "metadata": {},
   "outputs": [
    {
     "name": "stdout",
     "output_type": "stream",
     "text": [
      "\n",
      "    Destino: Marte\n",
      "    Tiempo total del viaje: 75 minutos\n",
      "    combustible total: 507000\n",
      "    \n"
     ]
    }
   ],
   "source": [
    "# Escribe tu nueva función de reporte considerando lo anterior\n",
    "def report(destiny, *minutes, **fuel):\n",
    "    return f\"\"\"\n",
    "    Destino: {destiny}\n",
    "    Tiempo total del viaje: {sum(minutes)} minutos\n",
    "    combustible total: {sum(fuel.values())}\n",
    "    \"\"\"\n",
    "\n",
    "print(report(\"Marte\", 30, 45, externalTank=7000, internalTank=500000))"
   ]
  },
  {
   "cell_type": "code",
   "execution_count": 10,
   "metadata": {},
   "outputs": [
    {
     "name": "stdout",
     "output_type": "stream",
     "text": [
      "\n",
      "    Destino: Marte\n",
      "    Tiempo total del viaje: 74 minutos\n",
      "    combustible total: 500000\n",
      "    interno tanque: 300000 litros\n",
      "externo tanque: 200000 litros\n",
      "\n"
     ]
    }
   ],
   "source": [
    "# Escribe tu nueva función\n",
    "def report(destiny, *minutes, **fuel):\n",
    "    report = f\"\"\"\n",
    "    Destino: {destiny}\n",
    "    Tiempo total del viaje: {sum(minutes)} minutos\n",
    "    combustible total: {sum(fuel.values())}\n",
    "    \"\"\"\n",
    "    for tank, lts in fuel.items():\n",
    "        report += f\"{tank} tanque: {lts} litros\\n\"\n",
    "    return report\n",
    "\n",
    "print(report(\"Marte\", 8, 11, 55, interno=300000, externo=200000))"
   ]
  }
 ],
 "metadata": {
  "interpreter": {
   "hash": "c397d5b9ac899d24159ba718c8e1bd351f2a3f912272eb9a4e9db2d36c4094f7"
  },
  "kernelspec": {
   "display_name": "Python 3.10.2 64-bit",
   "language": "python",
   "name": "python3"
  },
  "language_info": {
   "codemirror_mode": {
    "name": "ipython",
    "version": 3
   },
   "file_extension": ".py",
   "mimetype": "text/x-python",
   "name": "python",
   "nbconvert_exporter": "python",
   "pygments_lexer": "ipython3",
   "version": "3.10.2"
  },
  "orig_nbformat": 4
 },
 "nbformat": 4,
 "nbformat_minor": 2
}

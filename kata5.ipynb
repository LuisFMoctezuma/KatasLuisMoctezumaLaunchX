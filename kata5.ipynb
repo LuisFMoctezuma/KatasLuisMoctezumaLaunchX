{
 "cells": [
  {
   "cell_type": "markdown",
   "metadata": {},
   "source": [
    "# Ejercicio 1"
   ]
  },
  {
   "cell_type": "code",
   "execution_count": 1,
   "metadata": {},
   "outputs": [
    {
     "name": "stdout",
     "output_type": "stream",
     "text": [
      "628949330\n",
      "390577534\n"
     ]
    }
   ],
   "source": [
    "from math import ceil\n",
    "# Crear variables para almacenar las dos distancias\n",
    "earthDistance = 149597870\n",
    "jupiterDistance = 778547200\n",
    "\n",
    "# Calcular la distancia entre planetas\n",
    "distanceKm = (jupiterDistance - earthDistance)\n",
    "print(distanceKm)\n",
    "\n",
    "# conversión a millas\n",
    "millas = (distanceKm * 0.621)\n",
    "print(ceil(millas))"
   ]
  },
  {
   "cell_type": "markdown",
   "metadata": {},
   "source": [
    "# Ejercicio 2"
   ]
  },
  {
   "cell_type": "code",
   "execution_count": 3,
   "metadata": {},
   "outputs": [],
   "source": [
    "# Almacenar las entradas del usuario\n",
    "firstPlanet = input('Introduzca la distancia del sol a el primer planeta:')\n",
    "secondPlanet = input('Introduzca la distancia del sol para el segundo planeta:')\n",
    "\n",
    "# Convierte las cadenas de ambos planetas a números enteros\n",
    "firstPlanet = int(firstPlanet)\n",
    "secondPlanet = int(secondPlanet)"
   ]
  },
  {
   "cell_type": "code",
   "execution_count": 4,
   "metadata": {},
   "outputs": [
    {
     "name": "stdout",
     "output_type": "stream",
     "text": [
      "50\n",
      "31.05\n"
     ]
    }
   ],
   "source": [
    "# Realizar el cálculo y determinar el valor absoluto\n",
    "distance = secondPlanet - firstPlanet\n",
    "print(distance)\n",
    "\n",
    "# Convertir de KM a Millas\n",
    "distanceMillas = distance * 0.621\n",
    "print(abs(distanceMillas))"
   ]
  }
 ],
 "metadata": {
  "interpreter": {
   "hash": "c397d5b9ac899d24159ba718c8e1bd351f2a3f912272eb9a4e9db2d36c4094f7"
  },
  "kernelspec": {
   "display_name": "Python 3.10.2 64-bit",
   "language": "python",
   "name": "python3"
  },
  "language_info": {
   "codemirror_mode": {
    "name": "ipython",
    "version": 3
   },
   "file_extension": ".py",
   "mimetype": "text/x-python",
   "name": "python",
   "nbconvert_exporter": "python",
   "pygments_lexer": "ipython3",
   "version": "3.10.2"
  },
  "orig_nbformat": 4
 },
 "nbformat": 4,
 "nbformat_minor": 2
}
